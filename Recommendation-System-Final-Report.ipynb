{
 "cells": [
  {
   "cell_type": "markdown",
   "metadata": {},
   "source": [
    "### Movie Recommendation System using MovieLens Dataset\n",
    "\n",
    "**Authors:** \n",
    "\n",
    "1. Kumari Nishu (kn2492)\n",
    "\n",
    "2. Neelam Patodia (np2723)\n",
    "\n",
    "3. Mohit Chander Gulla (mcg2208, github: mohitgulla)\n",
    "\n",
    "In this notebook, we will explore two approaches to build a recommendation system using collaborative filtering algorithms: memory-based and model-based. Our analysis is based on a sampled MovieLens dataset with model training and inference implemented on Spark platform."
   ]
  },
  {
   "cell_type": "markdown",
   "metadata": {},
   "source": [
    "#### Table of Contents\n",
    "\n",
    "1. [Objective](#objective)<br>\n",
    "2. [Data Exploration](#eda)<br>\n",
    "3. [Sampling Strategy](#sampling)<br>\n",
    "4. [Item-Item Memory Based Collaborative Filtering](#memory-based)<br>\n",
    "    4.1. [Build Weight Matrix](#weight-matrix)<br>\n",
    "    4.2. [Prediction on Test Dataset](#memorypredict)<br>\n",
    "    4.3. [Evaluating Model Accuracy](#memoryacc)<br>\n",
    "    4.4. [Top-k Recommendations](#memoryrecommend)<br>\n",
    "5. [ALS Model-Based Collaborative Filtering](#als)<br>\n",
    "    5.1. [Training ALS Model](#alstrain)<br>\n",
    "    5.2. [Prediction on Test Dataset](#alspredict)<br>\n",
    "    5.3. [Top-k Recommendations](#alsrecommend)<br>\n",
    "    5.4. [Hyperparameter Tuning](#alshyperparameter)<br>\n",
    "6. [Baseline Model](#baseline)<br>\n",
    "7. [Results Analysis](#results)<br>\n",
    "    7.1. [Accuracy](#accuracy)<br>\n",
    "    7.2. [Coverage](#coverage)<br>\n",
    "    7.3. [Scalability](#scalability)<br>\n",
    "8. [Conclusion & Future Work](#conclusion)"
   ]
  },
  {
   "cell_type": "markdown",
   "metadata": {},
   "source": [
    "#### 1. Objective <a id = objective></a>\n",
    "\n",
    "* *What is your objective? What are you trying to optimize and what are you willing to sacrifice?*\n",
    "\n",
    "Our objective is to present a proof of concept on two approaches to building a recommendation system. In this notebook, we implement two collaborative filtering algorithms - a memory based and model based - and compare the performance of each in terms of accuracy, coverage, and scalability. Lastly, we want to show with conclusive evidence the value of having a recommendation system on our platform. \n",
    "\n",
    "* *What metrics do you care about, who is this system built to serve (users or your boss?), and what business rules may you care to introduce?*\n",
    "\n",
    "In contrast with existing (baseline) logic of recommending movies, which is not curated for each user, we strive to learn user preferences from the ratings given to movies and provide recommendation based on that. This would improve the overall user experience by providing more targeted recommendation. Moreover investing in a sound recommendation engine would translate into customer retention and thereby increase revenue. Therefore by building a system that serves users, we as an organization would benefit in the long run.\n",
    "\n",
    "At this stage our focus is to build a system that would provide recommendations for users that have rated at least 7 movies. This treatment is required in order for us to understand something about a user's taste and provide relevant recommendations. Our objective is to judge our model on three important aspects - accuracy, coverage and scalability. We will evaluate our model on accuracy metrics (detailed later), item and user coverage, and impact on model performance and execution time as we scale our model. Though, at the moment, our system would not provide recommendations for users with inadequate ratings, we can make use of implicit user behavior to provide recommendations to solve for the cold start problem."
   ]
  },
  {
   "cell_type": "code",
   "execution_count": 314,
   "metadata": {},
   "outputs": [],
   "source": [
    "import time\n",
    "import numpy as np\n",
    "import pandas as pd\n",
    "import seaborn as sns\n",
    "import matplotlib.pyplot as plt\n",
    "\n",
    "from pyspark import SparkContext, SQLContext\n",
    "\n",
    "from pyspark.sql.functions import *\n",
    "from pyspark.sql import functions as F\n",
    "\n",
    "from pyspark.ml.recommendation import ALS\n",
    "from pyspark.ml.evaluation import RegressionEvaluator\n",
    "from pyspark.ml.tuning import CrossValidator, ParamGridBuilder"
   ]
  },
  {
   "cell_type": "markdown",
   "metadata": {},
   "source": [
    "#### 2. Data Exploration  <a id = eda></a>"
   ]
  },
  {
   "cell_type": "code",
   "execution_count": 315,
   "metadata": {},
   "outputs": [],
   "source": [
    "# Importing MovieLens Ratings Dataset\n",
    "ratings_all = pd.read_csv('data/raw/ratings.csv')\n",
    "\n",
    "user_ratings_count = ratings_all.groupby(['userId']).count()['movieId']\n",
    "movie_ratings_count = ratings_all.groupby(['movieId']).count()['userId']"
   ]
  },
  {
   "cell_type": "code",
   "execution_count": 316,
   "metadata": {},
   "outputs": [
    {
     "data": {
      "image/png": "[encoded data removed]",
      "text/plain": [
       "<Figure size 432x288 with 2 Axes>"
      ]
     },
     "metadata": {
      "needs_background": "light"
     },
     "output_type": "display_data"
    }
   ],
   "source": [
    "f, (ax1, ax2) = plt.subplots(1,2)\n",
    "\n",
    "sns.distplot(user_ratings_count, ax = ax1)\n",
    "ax1.set_title('Frequency Distribution of Ratings by User')\n",
    "sns.distplot(movie_ratings_count, ax = ax2)\n",
    "ax2.set_title('Frequency Distribution of Ratings per Movie')\n",
    "\n",
    "ax1.set_xlabel('Number of Ratings')\n",
    "ax2.set_xlabel('Number of Ratings')\n",
    "plt.subplots_adjust(0.1, 0.1, 2, 1.4)\n",
    "plt.show()"
   ]
  },
  {
   "cell_type": "code",
   "execution_count": 317,
   "metadata": {},
   "outputs": [
    {
     "name": "stdout",
     "output_type": "stream",
     "text": [
      "Ratings Provided by Users:\n",
      "Average of Ratings Count = 144.4135\n",
      "Median of Ratings Count = 68.0\n",
      "\n",
      "Ratings Received by Movies:\n",
      "Average of Ratings Count = 747.8411\n",
      "Median of Ratings Count = 18.0\n"
     ]
    }
   ],
   "source": [
    "print('Ratings Provided by Users:')\n",
    "print('Average of Ratings Count =', np.round(np.mean(user_ratings_count), 4))\n",
    "print('Median of Ratings Count =', np.round(np.median(user_ratings_count), 4))\n",
    "\n",
    "print('\\nRatings Received by Movies:')\n",
    "print('Average of Ratings Count =', np.round(np.mean(movie_ratings_count), 4))\n",
    "print('Median of Ratings Count =', np.round(np.median(movie_ratings_count), 4))"
   ]
  },
  {
   "cell_type": "markdown",
   "metadata": {},
   "source": [
    "From the distribution plots above, and their mean and median values, we can observe that majority of the users and movies have low ratings count. We will use this to guide our sampling strategy, as detailed below."
   ]
  },
  {
   "cell_type": "markdown",
   "metadata": {},
   "source": [
    "#### 3. Sampling Strategy <a id = sampling></a>\n",
    "\n",
    "To build an effective recommendation model, it is vital to have a sampling strategy in place which accounts for the following parameters:\n",
    "\n",
    "1. Removing users without significant interaction with the movie platform\n",
    "As the dataset only records those users who have rated the movies, we have removed those users from the sample who have rated considerably fewer movies as compared to other as they represent outliers and recording their movie ratings would not represent true ratings. To determine this cutoff, we follow the following approach: Remove the lower 10% of the outliers based on the frequency of their ratings count.\n",
    "\n",
    "\n",
    "2. Choosing popular versus unpopular movie choice:\n",
    "We have tried to achieve a balance between choice of both popular and non-popular movies by considering either of the 2 options : the quantiles of number of ratings per movie and a fixed threshold. On the initial sampling data of 500/600 items we observed that beyond 75%ile the ratings had shot up from 3-4 ratings to more than 1000s. We thus thought of using a threshold value of 5 for including items in our sampling data. This was done to ensure that even after selection of a particular number of items from the whole data, in the end sampled data the number of items which have just one user associated with them is minimized. It should be noted here, that even though the initial frequency has been set above 5, this does not ensure that in the end data the frequency would be more than 5. \n",
    "\n",
    "\n",
    "3. Removing movies without significant user interaction:\n",
    "Now that we have filtered our users and items at an initial level, in order to ensure that in the end data high user engagement is maintained we have used threshold value of 7 which denotes that the recommender system would only recommend to those users which have rated more than 7 movies. This could also be interpreted as a business rule. This is also important as we intend to use item-item CF and thus ensuring user engagement beyond a certain level, ensures pair wise ratings comparisons. Else the sparsity would increase even more.\n",
    "\n",
    "\n",
    "4. Model Scalability:\n",
    "As we go on increasing the size of our sampled data, it is necessary to decide on how many items we would consider in each pull as it would be associated to the number of users and the number of rows we have in the sampled data. \n",
    "\n",
    "\n",
    "5. Generate train and test data:\n",
    "We have assured that all users are present in both test and train data. This is because the system cannot recommend for new users i.e those who have not appeared in the training dataset. To solve for cold start problem is an enhancement we can do in future. As such, 80% of the movies which a user has seen appears in train data and the latter in test data. We have ensured that only those users are present in the sampled data who have rated more than 7 movies, thus this is further verified.\n",
    "\n",
    "We have thus tried to build a sampling function called 'data_sampling' which covers all these functionalities mentioned above and outputs the sample data to be used for model building and analysis. "
   ]
  },
  {
   "cell_type": "code",
   "execution_count": 318,
   "metadata": {},
   "outputs": [],
   "source": [
    "def data_sampling (df, item_nos=500, item_split=[0.90,0.10]):\n",
    "    \n",
    "    # Data preprocessing from user perspective\n",
    "    \n",
    "    # Frequency of movie rating by each user\n",
    "    user_rtgs_cnt = (df.groupby(['userId']).count()). \\\n",
    "        iloc[:,0:1].reset_index().rename(columns={\"movieId\":\"rating_cnt\"})\n",
    "    \n",
    "    quantile_user = user_rtgs_cnt.quantile([0.1, 0.25, 0.75, 0.9], axis = 0).drop([\"userId\"], axis = 1)\n",
    "    \n",
    "    # Removing the lower 10% of the outliers.\n",
    "    user_rtgs_cnt=user_rtgs_cnt[user_rtgs_cnt.rating_cnt>=quantile_user.iloc[0,0]]\n",
    "    \n",
    "    # These users are then removed from the dataset\n",
    "    df = df.merge(user_rtgs_cnt[['userId']],on=\"userId\", how=\"inner\")   \n",
    "    \n",
    "    # Data preprocessing from item perspective\n",
    "    \n",
    "    # Count of Ratings per movie\n",
    "    item_count = (df[[\"movieId\",\"rating\"]].groupby(['movieId']).count()). \\\n",
    "        reset_index().rename(columns={\"rating\":\"rating_per_item\"})\n",
    "    \n",
    "    quantile_item=item_count.quantile([0.1,.25,.75,1], axis = 0).drop([\"movieId\"],axis=1)\n",
    "    \n",
    "    # Removing all items which have less than 3 user counts i.e Q1 or based on a fixed number \n",
    "    item_count = item_count[item_count.rating_per_item>=5].reset_index(drop=True)\n",
    "    item_count[\"item_subset\"] = np.where(item_count.rating_per_item < quantile_item.iloc[2,0],1,2)\n",
    "    \n",
    "    # Data Sampling \n",
    "    \n",
    "    sampled_ratings=pd.DataFrame()\n",
    "    j = len(item_split)-1\n",
    "    \n",
    "    for i in item_count.item_subset.unique():\n",
    "        sampled_ratings=sampled_ratings.append(item_count[item_count.item_subset==i]. \\\n",
    "                                               sample(n=int(item_split[j]*item_nos), random_state=10))\n",
    "        j=j-1\n",
    "        \n",
    "    sampled_ratings.reset_index(drop=True, inplace=True)\n",
    "    \n",
    "    # Select user rows for only those movies which have been sampled\n",
    "    df = df.merge(sampled_ratings[['movieId']],on=\"movieId\", how=\"inner\")\n",
    "    \n",
    "    # Since not all items are selected it may happen that we again get items with only user frequency.\n",
    "    # Removing single frequency users so as to reduce sparsity and enable item-item comparison between pairs\n",
    "    \n",
    "    user_rtgs_cnt_2=(df.groupby(['userId']).count()).iloc[:,0:1]. \\\n",
    "        reset_index().rename(columns={\"movieId\":\"user_freq\"})\n",
    "    df = df.merge(user_rtgs_cnt_2,on=\"userId\", how=\"inner\")\n",
    "    \n",
    "    # For any personalized recommendation to a user, we are setting a rule that user should have \n",
    "    # watched at least 7 movies then only make popular recommendations to him\n",
    "    df = df[df.user_freq>7] \n",
    "    df.drop(['user_freq'],axis=1, inplace=True)\n",
    "    df = df.reset_index(drop=True)\n",
    "    print(\"Total Number of Ratings in Sampled Dataset =\", len(df))\n",
    "    print(\"Total Number of Unique Users in Sample =\", len(df.userId.unique()))\n",
    "    \n",
    "    # Train-Test Split\n",
    "    \n",
    "    df_train = df.groupby(['userId']).apply(lambda x : x.sample(frac=0.8,random_state=10)).reset_index(drop=True)\n",
    "    z = df.merge(df_train,how='outer', on=['userId','movieId','rating','timestamp'], indicator=True)\n",
    "    df_test = z.query('_merge != \"both\"')\n",
    "    df_test = df_test.drop(['_merge'],axis=1)\n",
    "    df_test.reset_index(drop=True, inplace=True)\n",
    "        \n",
    "    return [df, df_train, df_test]"
   ]
  },
  {
   "cell_type": "code",
   "execution_count": 319,
   "metadata": {},
   "outputs": [
    {
     "name": "stdout",
     "output_type": "stream",
     "text": [
      "Total Number of Ratings in Sampled Dataset = 54836\n",
      "Total Number of Unique Users in Sample = 4201\n"
     ]
    }
   ],
   "source": [
    "ratings, ratings_training, ratings_test = data_sampling(ratings_all, item_nos = 500)"
   ]
  },
  {
   "cell_type": "markdown",
   "metadata": {},
   "source": [
    "#### 4. Item-Item Memory Based Collaborative Filtering <a id = memory-based></a>\n",
    "\n",
    "**Item-Item Based Approach**: Item-Item based approach takes an item, finds users who liked that item then finds other items liked by those users. Item-Item Collaborative Filtering is best described by the quote *“users who liked this item also liked …”*.\n",
    "\n",
    "**Memory Based Approach**: In memory based collaborative filtering approach, we do not learn any parameter using gradient descent or any optimization technique. The closest user or items are calculated by using some similarity metrics(as Cosine similarity or Pearson correlation) which are only based on arithmetic operations. As no training or optimization is involved, it is an easy to use approach.\n",
    "\n",
    "Here we have used Item-item and memory based collaborative filtering using cosine similarity as the measure of similarity between different items.\n",
    "\n",
    "**Cosine Similarity**: Cosine similarity is a method to measure the difference between two non zero vectors of an inner product space. The cosine similarity will measure the similarity between these two vectors. Cosine similarity can be thought of geometrically as below when we treat a given item’s (user’s) column (row) of the ratings matrix as a vector.\n",
    "\n",
    "For item-based collaborative filtering, two items’ similarity is measured as the cosine of the angle between the two items’ vectors. \n",
    "\n",
    "For items *b* and *c*, the cosine similarity is:\n",
    "            $$Similarity: \\cos(\\theta) = \\frac{b.c}{\\left \\|b \\right \\|\\left \\|c \\right \\|}$$"
   ]
  },
  {
   "cell_type": "markdown",
   "metadata": {},
   "source": [
    "##### 4.1 Build Weight Matrix <a id = weight-matrix></a>\n",
    "\n",
    "The function defined below will build an item-to-item matrix which will be used for prediction later."
   ]
  },
  {
   "cell_type": "code",
   "execution_count": 320,
   "metadata": {},
   "outputs": [],
   "source": [
    "def build_weight_matrix(ratings):\n",
    "    \n",
    "    # define weight matrix\n",
    "    w_matrix_columns = ['movie_1', 'movie_2', 'weight']\n",
    "    w_matrix = pd.DataFrame(columns = w_matrix_columns)\n",
    "\n",
    "    # calculate the similarity between pairs of movies\n",
    "    unique_movies = np.unique(ratings['movieId'])\n",
    "    print(\"Number of Unique Movies = \", len(unique_movies))\n",
    "\n",
    "    for movie_1 in unique_movies:\n",
    "\n",
    "        # extract all users who rated movie_1\n",
    "        user_data = ratings[ratings['movieId'] == movie_1]\n",
    "        unique_users = np.unique(user_data['userId'])\n",
    "\n",
    "        # record the ratings for users who rated both movie_1 and movie_2\n",
    "        record_row_columns = ['userId', 'movie_1', 'movie_2', 'rating_1', 'rating_2']\n",
    "        record_movie_1_2 = pd.DataFrame(columns=record_row_columns)\n",
    "        \n",
    "        # for each customer C who rated movie_1 record the her ratings for movie_2 \n",
    "        for c_userid in unique_users:\n",
    "            c_movie_1_rating = user_data[user_data['userId'] == c_userid]['rating'].iloc[0]\n",
    "            # all movies of user c excluding movie_1\n",
    "            c_user_data = ratings[(ratings['userId'] == c_userid) & (ratings['movieId'] != movie_1)]\n",
    "            c_unique_movies = np.unique(c_user_data['movieId'])\n",
    "\n",
    "            # Iterate through all movies rated by customer C as movie=2\n",
    "            for movie_2 in c_unique_movies:\n",
    "               # the customer's rating for movie_2\n",
    "                c_movie_2_rating = c_user_data[c_user_data['movieId'] == movie_2]['rating'].iloc[0]\n",
    "                record_row = pd.Series([c_userid, movie_1, movie_2, c_movie_1_rating, c_movie_2_rating], \n",
    "                                       index=record_row_columns)\n",
    "                record_movie_1_2 = record_movie_1_2.append(record_row, ignore_index=True)\n",
    "        \n",
    "        # computing the similarity between movie_1 and the other recorded movies tagged as movie_2\n",
    "        unique_movie_2 = np.unique(record_movie_1_2['movie_2'])\n",
    "        # going through each movie 2\n",
    "        for movie_2 in unique_movie_2:\n",
    "            paired_movie_1_2 = record_movie_1_2[record_movie_1_2['movie_2'] == movie_2]\n",
    "            cosine_sim_numerator = (paired_movie_1_2['rating_1'] * paired_movie_1_2['rating_2']).sum()\n",
    "            cosine_sim_denominator = np.sqrt(np.square(paired_movie_1_2['rating_1']).sum()) * \\\n",
    "                np.sqrt(np.square(paired_movie_1_2['rating_2']).sum())\n",
    "                \n",
    "            cosine_sim_denominator = cosine_sim_denominator if cosine_sim_denominator != 0 else 1e-8\n",
    "            sim_value = cosine_sim_numerator / cosine_sim_denominator\n",
    "            w_matrix = w_matrix.append(pd.Series([movie_1, movie_2, sim_value], index=w_matrix_columns), \n",
    "                                       ignore_index=True)\n",
    "            \n",
    "    #return the computed weight matrix\n",
    "    return w_matrix"
   ]
  },
  {
   "cell_type": "code",
   "execution_count": 321,
   "metadata": {},
   "outputs": [
    {
     "name": "stdout",
     "output_type": "stream",
     "text": [
      "Building Weight Matrix - Item-Item Collaborative Filtering...\n",
      "Number of Unique Movies =  499\n",
      "Weight Matrix Successfully Built\n",
      "\n",
      "Time Elapsed = 1264.2378659248352 secs\n"
     ]
    }
   ],
   "source": [
    "start = time.time()\n",
    "print('Building Weight Matrix - Item-Item Collaborative Filtering...')\n",
    "w_matrix = build_weight_matrix(ratings_training)\n",
    "print('Weight Matrix Successfully Built')\n",
    "end = time.time()\n",
    "print('\\nTime Elapsed = '+str(end - start)+' secs')"
   ]
  },
  {
   "cell_type": "markdown",
   "metadata": {},
   "source": [
    "##### 4.2 Prediction on Test Dataset<a id = memorypredict></a>\n",
    "\n",
    "The function defined below will predict the rating of an unrated movie for a given user.\n",
    "\n",
    "Prediction of rating for a pair of given item and user is done using the similarity of the given item with all the items and the rating given by the current user for all those items. Then we further normaize this summation by the sum of similarity scors for all those items."
   ]
  },
  {
   "cell_type": "code",
   "execution_count": 322,
   "metadata": {},
   "outputs": [],
   "source": [
    "# Predict a rating for a given user and given movie\n",
    "def predict(userId, movieId, w_matrix, ratings):\n",
    "    # predict the rating of the given movie by the given user\n",
    "    user_other_ratings = ratings[ratings['userId'] == userId]\n",
    "    user_unique_movies = np.unique(user_other_ratings['movieId'])\n",
    "    sum_weighted_other_ratings = 0\n",
    "    sum_weghts = 0\n",
    "    for movie_j in user_unique_movies:\n",
    "        # only calculate the weighted values when the weight between movie_1 and movie_2 exists in weight matrix\n",
    "        w_movie_1_2 = w_matrix[(w_matrix['movie_1'] == movieId) & (w_matrix['movie_2'] == movie_j)]\n",
    "        if len(w_movie_1_2) > 0:\n",
    "            user_rating_j = user_other_ratings[user_other_ratings['movieId']==movie_j]\n",
    "            sum_weighted_other_ratings += (user_rating_j['rating'].iloc[0] * w_movie_1_2['weight'].iloc[0])\n",
    "            sum_weghts += np.abs(w_movie_1_2['weight'].iloc[0])\n",
    "\n",
    "    # when sum_weights is 0 (in case there is no ratings from new users), use the mean ratings as 2.5\n",
    "    if sum_weghts == 0:\n",
    "        predicted_rating = 2.5\n",
    "    else:\n",
    "        predicted_rating = sum_weighted_other_ratings/sum_weghts\n",
    "    predicted_rating = np.round(predicted_rating, 4)\n",
    "    return predicted_rating"
   ]
  },
  {
   "cell_type": "markdown",
   "metadata": {},
   "source": [
    "##### 4.3 Evaluating Model Accuracy<a id = memoryacc></a>\n",
    "\n",
    "We will evaluate the accuracy of our item-item memory based collaborative filtering using RMSE and MAE. Detailed analysis in the results section."
   ]
  },
  {
   "cell_type": "code",
   "execution_count": 323,
   "metadata": {},
   "outputs": [],
   "source": [
    "# Evaluate the learned recommender system on test data by converting the ratings to negative and positive\n",
    "def rmse_eval(ratings_test, w_matrix, ratings_training):\n",
    "    # predict all the ratings for test data\n",
    "    ratings_test['prediction'] = pd.Series(np.zeros(ratings_test.shape[0]))\n",
    "    \n",
    "    for index, row_rating in ratings_test.iterrows():\n",
    "        predicted_rating = predict(row_rating['userId'], row_rating['movieId'], w_matrix, ratings_training)\n",
    "        ratings_test.loc[index, 'prediction'] = predicted_rating\n",
    "    \n",
    "    rmse = np.round(np.sqrt(np.mean((ratings_test['prediction']-ratings_test['rating'])**2)), 4)\n",
    "    mae = np.round(np.mean(np.abs(ratings_test['prediction']-ratings_test['rating'])), 4)\n",
    "    ratings_test.drop(['prediction'], inplace=True, axis = 1)\n",
    "    return rmse, mae"
   ]
  },
  {
   "cell_type": "code",
   "execution_count": 350,
   "metadata": {},
   "outputs": [
    {
     "name": "stdout",
     "output_type": "stream",
     "text": [
      "Evaluating RMSE, MAE on test dataset...\n",
      "RMSE on Test Dataset =  0.8833\n",
      "MAE on Test Dataset =  0.7612\n",
      "\n",
      "Time Elapsed = 283.7822 secs\n"
     ]
    }
   ],
   "source": [
    "start = time.time()\n",
    "print('Evaluating RMSE, MAE on test dataset...')\n",
    "rmse, mae = rmse_eval(ratings_test, w_matrix, ratings_training)\n",
    "print('RMSE on Test Dataset = ', rmse)\n",
    "print('MAE on Test Dataset = ', mae)\n",
    "end = time.time()\n",
    "print('\\nTime Elapsed = '+str(np.round(end - start, 4))+' secs')"
   ]
  },
  {
   "cell_type": "markdown",
   "metadata": {},
   "source": [
    "##### 4.4 Top-k Recommendations<a id = memoryrecommend></a>\n",
    "\n",
    "In prediction step, We implemented the utility to predict the rating of an unrated movie by a given user. In this step, we obtain a complete rating list of all the unrated movies by the user. Then we obtain the top K movies with maximum ratings predicted. This list of top K movies are most likely to attract the user."
   ]
  },
  {
   "cell_type": "code",
   "execution_count": 325,
   "metadata": {},
   "outputs": [],
   "source": [
    "# recommend top k movies for given userId from movies that he/she has not seen\n",
    "def recommend(userID, w_matrix, ratings, k=10):\n",
    "    \n",
    "    distinct_movies = np.unique(ratings['movieId'])\n",
    "    user_rated_movies = np.unique(ratings[ratings['userId']==userID]['movieId'])\n",
    "\n",
    "    user_unrated_movies = pd.DataFrame(columns=['movieId', 'rating'])\n",
    "\n",
    "    # predict the ratings for all movies that the user hasn't rated\n",
    "    i = 0\n",
    "    for movie in distinct_movies:\n",
    "        if movie not in user_rated_movies:\n",
    "            rating_value = predict(userID, movie, w_matrix, ratings)\n",
    "            user_unrated_movies.loc[i] = [movie, rating_value]\n",
    "            i = i + 1\n",
    "        else:\n",
    "            continue\n",
    "            \n",
    "    # select top k movies based on predicted ratings\n",
    "    recommendations = user_unrated_movies.sort_values(by=['rating'], ascending=False).head(k)\n",
    "    recommendations_list = [ [int(row['movieId']), row['rating']] for i,row in recommendations.iterrows() ]\n",
    "    return recommendations_list"
   ]
  },
  {
   "cell_type": "code",
   "execution_count": 326,
   "metadata": {},
   "outputs": [],
   "source": [
    "# taking top k recommendation for given list of users\n",
    "def make_recommendation_for_users(users_list, ratings_training):\n",
    "    users_recommendations_df = pd.DataFrame(columns=['userId', 'recommendation'])\n",
    "    count = 0\n",
    "    for user in users_list:\n",
    "        recommendations = recommend(user, w_matrix, ratings_training, k=10)\n",
    "        users_recommendations_df.loc[count] = [user, recommendations]\n",
    "        count+=1\n",
    "        \n",
    "    return users_recommendations_df"
   ]
  },
  {
   "cell_type": "code",
   "execution_count": 336,
   "metadata": {},
   "outputs": [
    {
     "name": "stdout",
     "output_type": "stream",
     "text": [
      "Recommending 10 movies for all users...\n",
      "Recommendations Successfully Generated\n",
      "\n",
      "Time Elapsed = 4416.535 secs\n"
     ]
    },
    {
     "data": {
      "text/html": [
       "<div>\n",
       "<style scoped>\n",
       "    .dataframe tbody tr th:only-of-type {\n",
       "        vertical-align: middle;\n",
       "    }\n",
       "\n",
       "    .dataframe tbody tr th {\n",
       "        vertical-align: top;\n",
       "    }\n",
       "\n",
       "    .dataframe thead th {\n",
       "        text-align: right;\n",
       "    }\n",
       "</style>\n",
       "<table border=\"1\" class=\"dataframe\">\n",
       "  <thead>\n",
       "    <tr style=\"text-align: right;\">\n",
       "      <th></th>\n",
       "      <th>userId</th>\n",
       "      <th>recommendation</th>\n",
       "    </tr>\n",
       "  </thead>\n",
       "  <tbody>\n",
       "    <tr>\n",
       "      <th>0</th>\n",
       "      <td>122882</td>\n",
       "      <td>[[114856, 4.75], [117726, 4.75], [55659, 4.75]...</td>\n",
       "    </tr>\n",
       "    <tr>\n",
       "      <th>1</th>\n",
       "      <td>8197</td>\n",
       "      <td>[[114856, 4.0], [107000, 4.0], [87100, 4.0], [...</td>\n",
       "    </tr>\n",
       "    <tr>\n",
       "      <th>2</th>\n",
       "      <td>65542</td>\n",
       "      <td>[[55757, 4.4054], [1462, 4.3294], [110748, 4.3...</td>\n",
       "    </tr>\n",
       "    <tr>\n",
       "      <th>3</th>\n",
       "      <td>57355</td>\n",
       "      <td>[[49183, 5.0], [87036, 5.0], [107743, 5.0], [9...</td>\n",
       "    </tr>\n",
       "    <tr>\n",
       "      <th>4</th>\n",
       "      <td>32780</td>\n",
       "      <td>[[113557, 4.2568], [117726, 4.125], [95163, 4....</td>\n",
       "    </tr>\n",
       "  </tbody>\n",
       "</table>\n",
       "</div>"
      ],
      "text/plain": [
       "   userId                                     recommendation\n",
       "0  122882  [[114856, 4.75], [117726, 4.75], [55659, 4.75]...\n",
       "1    8197  [[114856, 4.0], [107000, 4.0], [87100, 4.0], [...\n",
       "2   65542  [[55757, 4.4054], [1462, 4.3294], [110748, 4.3...\n",
       "3   57355  [[49183, 5.0], [87036, 5.0], [107743, 5.0], [9...\n",
       "4   32780  [[113557, 4.2568], [117726, 4.125], [95163, 4...."
      ]
     },
     "execution_count": 336,
     "metadata": {},
     "output_type": "execute_result"
    }
   ],
   "source": [
    "start = time.time()\n",
    "print('Recommending 10 movies for all users...')\n",
    "users_list_for_recommendation = list(set(ratings_training['userId']) & set(ratings_test['userId']))\n",
    "users_recommendations_df = make_recommendation_for_users(users_list_for_recommendation, ratings_training)\n",
    "print('Recommendations Successfully Generated')\n",
    "\n",
    "end = time.time()\n",
    "print('\\nTime Elapsed = '+str(np.round(end - start, 4))+' secs')\n",
    "\n",
    "users_recommendations_df.head()"
   ]
  },
  {
   "cell_type": "markdown",
   "metadata": {},
   "source": [
    "#### 5. ALS Model-Based Collaborative Filtering <a id = als></a>\n",
    "Alternating Least Squares (ALS) is a matrix factorization algorithm that works well for large scale collaborative filtering problems. It performs well with sparse ratings dataset, and scales well to very large datasets - two features that make it a good choice for real world recommendation systems.\n",
    "\n",
    "In the background, ALS is an optimization problem that is trying to minimize the objective function: \n",
    "\n",
    "$$Minimize: J = \\frac{1}{2}\\left \\| R - UV^{T} \\right \\|; Constraints: U\\geq 0, V\\geq 0$$\n",
    "\n",
    "where U and V represent the latent factors of our user-movie matrix, R corresponds to the actual rating and hence J is the loss that we are trying to minimize. \n",
    "\n",
    "ALS is a two-step iterative optimization process where it first holds the user matrix fixed and runs gradient descent with the movie matrix, and then holds the movie matrix fixed and runs gradient descent with the item matrix. We have implemented this below using the Spark ML library in Python."
   ]
  },
  {
   "cell_type": "code",
   "execution_count": 338,
   "metadata": {},
   "outputs": [],
   "source": [
    "sc = SparkContext()\n",
    "sqlContext = SQLContext(sc)\n",
    "\n",
    "# Converting pandas DataFrame to pyspark DataFrame\n",
    "ratings_test_sc = sqlContext.createDataFrame(ratings_test)\n",
    "ratings_training_sc = sqlContext.createDataFrame(ratings_training)\n",
    "\n",
    "ratings_test_sc = ratings_test_sc.select(['userId', 'movieId', 'rating', 'timestamp'])"
   ]
  },
  {
   "cell_type": "markdown",
   "metadata": {},
   "source": [
    "##### 5.1 Training ALS Model / Cross-Validation Setup <a id = alstrain></a>\n",
    "In the function defined below, we have fit the ALS model on our training dataset. The various design choices made in training the model are detailed below:\n",
    "1. The nonnegative hyperparameter to the ALS model is set to *True* which puts the constraints on U, V to be greater than 0 as rating values are non-negative\n",
    "2. We have chosen to tune two of the most important hyperparameters of ALS: **rank** - the number of latent factors and **regParam** - the regularization factor over a set of values that are built into a parameter grid\n",
    "3. We are learning the optimal values of hyperparameters using cross validation with 4 folds and our evaluation metric is root-mean squared error (RMSE)"
   ]
  },
  {
   "cell_type": "code",
   "execution_count": 339,
   "metadata": {},
   "outputs": [],
   "source": [
    "def als_model_train(train):\n",
    "    # Initializing implicit ALS with user, movie and ratings column\n",
    "    als = ALS(userCol=\"userId\", \n",
    "              itemCol=\"movieId\", \n",
    "              ratingCol=\"rating\",\n",
    "              nonnegative=True,\n",
    "              coldStartStrategy=\"drop\")\n",
    "    \n",
    "    # We use a ParamGridBuilder to construct a grid of parameters to search over\n",
    "    param_grid = ParamGridBuilder() \\\n",
    "        .addGrid(als.rank, [25, 50, 75, 100]) \\\n",
    "        .addGrid(als.regParam, [0.01, 0.1, 0.25, 0.5]) \\\n",
    "        .build()\n",
    "    \n",
    "    # Defining the evaluation criteria for choosing best set of hyperparameters\n",
    "    evaluator = RegressionEvaluator(metricName=\"rmse\", \n",
    "                                    labelCol=\"rating\", \n",
    "                                    predictionCol=\"prediction\")\n",
    "    \n",
    "    # To try all combinations of hyperparameters and determine best model using evaluator\n",
    "    hypertuned = CrossValidator(estimator=als, \n",
    "                                estimatorParamMaps=param_grid, \n",
    "                                evaluator=evaluator,\n",
    "                                numFolds=4)\n",
    "    \n",
    "    # Choosing the best set of hyperparameters from cross validation\n",
    "    cvModel = hypertuned.fit(train)\n",
    "    \n",
    "    return cvModel"
   ]
  },
  {
   "cell_type": "code",
   "execution_count": 340,
   "metadata": {},
   "outputs": [
    {
     "name": "stdout",
     "output_type": "stream",
     "text": [
      "Initiating ALS Model Training...\n",
      "ALS Model Training Complete\n",
      "\n",
      "Time Elapsed = 543.4539 secs\n"
     ]
    }
   ],
   "source": [
    "start = time.time()\n",
    "print('Initiating ALS Model Training...')\n",
    "model = als_model_train(ratings_training_sc)\n",
    "print('ALS Model Training Complete')\n",
    "end = time.time()\n",
    "print('\\nTime Elapsed = '+str(np.round(end - start, 4))+' secs')"
   ]
  },
  {
   "cell_type": "markdown",
   "metadata": {},
   "source": [
    "##### 5.2 Prediction on Test Dataset <a id = alspredict></a>\n",
    "In the function defined below, we use the best trained model from our hyperparameter tuning to predict ratings for user-movie pairs present in the test dataset. This allows us to gauge the performance of our model on unseen data. We are evaluating the performance of our ALS model using RMSE. Prior to calculating RMSE, we are capping all predicted ratings of more than 5 to 5 as the actual ratings data is in the range 0-5."
   ]
  },
  {
   "cell_type": "code",
   "execution_count": 341,
   "metadata": {},
   "outputs": [],
   "source": [
    "def als_model_predict(model, test):\n",
    "    predictions = model.bestModel.transform(test)\n",
    "    # Capping all predictions that exceed 5 to the max rating 5\n",
    "    predictions = predictions.withColumn('prediction', \n",
    "                                         when(col('prediction') > 5, 5).otherwise(col('prediction')))\n",
    "    evaluator_rmse = RegressionEvaluator(metricName=\"rmse\", labelCol=\"rating\", predictionCol=\"prediction\")\n",
    "    evaluator_mae = RegressionEvaluator(metricName=\"mae\", labelCol=\"rating\", predictionCol=\"prediction\")\n",
    "    \n",
    "    rmse = np.round(evaluator_rmse.evaluate(predictions), 4)\n",
    "    mae = np.round(evaluator_mae.evaluate(predictions), 4)\n",
    "    \n",
    "    return rmse, mae"
   ]
  },
  {
   "cell_type": "code",
   "execution_count": 342,
   "metadata": {},
   "outputs": [
    {
     "name": "stdout",
     "output_type": "stream",
     "text": [
      "Predicting on Test Dataset...\n",
      "RMSE on Test Dataset =  0.8818\n",
      "MAE on Test Dataset =  0.698\n",
      "\n",
      "Time Elapsed = 5.1415 secs\n"
     ]
    }
   ],
   "source": [
    "start = time.time()\n",
    "print('Predicting on Test Dataset...')\n",
    "rmse, mae = als_model_predict(model, ratings_test_sc)\n",
    "print('RMSE on Test Dataset = ', np.round(rmse, 4))\n",
    "print('MAE on Test Dataset = ', np.round(mae, 4))\n",
    "end = time.time()\n",
    "print('\\nTime Elapsed = '+str(np.round(end - start, 4))+' secs')"
   ]
  },
  {
   "cell_type": "markdown",
   "metadata": {},
   "source": [
    "##### 5.3 Top-k Recommendations <a id = alsrecommend></a>\n",
    "In the function defined below, we are using the inbuilt Spark ALS method *recommendForAllUsers( )* method to generate recommendations for all users. It will only return recommendations for users for whom we have data when training our ALS model. Essentially our recommendation system built on ALS would not be able to provide recommendations for new users, i.e. users who have not provided any ratings.\n",
    "\n",
    "Before providing the final set of recommendations for each user, we filter out the movies the user has already rated from the set of top-k recommendations we provide for the user. We are performing this filteration as our end objective is to recommend to users, the top-k movies that they have not rated/consumed. "
   ]
  },
  {
   "cell_type": "code",
   "execution_count": 343,
   "metadata": {},
   "outputs": [],
   "source": [
    "def als_model_recommend(model, k = 10):\n",
    "    user_recs = model.bestModel.recommendForAllUsers(len(np.unique(ratings['movieId'])))\n",
    "    user_recs_pd = user_recs.toPandas()\n",
    "    user_rated = ratings.copy()\n",
    "    \n",
    "    # Populating a dictionary for each user with the list of movies that they have rated\n",
    "    user_rated_movies = user_rated.groupby('userId')['movieId'].apply(lambda x: x.values.tolist()).to_dict()\n",
    "    user_movie_recs = pd.DataFrame(columns = ['userId', 'recommendations'])\n",
    "    \n",
    "    for i in range(len(user_recs_pd)):\n",
    "        userID = user_recs_pd['userId'][i]\n",
    "        user_movie_recs.loc[i, 'userId'] = userID\n",
    "        rated_movies = user_rated_movies.get(userID)\n",
    "        \n",
    "        count = 0\n",
    "        recommendations = []\n",
    "        for j in range(len(user_recs_pd.loc[i, 'recommendations'])):\n",
    "            \n",
    "            # Only movies not rated by a user makes it into their recommendation \n",
    "            if(user_recs_pd.loc[i, 'recommendations'][j][0] not in rated_movies):\n",
    "                recommendations.append((user_recs_pd.loc[i, 'recommendations'][j][0], \n",
    "                                        user_recs_pd.loc[i, 'recommendations'][j][1]))\n",
    "                count = count + 1\n",
    "\n",
    "            # Stopping as soon as we have our top-k recommendations ready\n",
    "            if(count == k):\n",
    "                user_movie_recs.loc[i, 'recommendations'] = recommendations\n",
    "                break\n",
    "    \n",
    "    return user_movie_recs"
   ]
  },
  {
   "cell_type": "code",
   "execution_count": 344,
   "metadata": {},
   "outputs": [
    {
     "name": "stdout",
     "output_type": "stream",
     "text": [
      "Recommending 10 movies for all users...\n",
      "Recommendations Successfully Generated\n",
      "\n",
      "Time Elapsed = 18.3217 secs\n"
     ]
    },
    {
     "data": {
      "text/html": [
       "<div>\n",
       "<style scoped>\n",
       "    .dataframe tbody tr th:only-of-type {\n",
       "        vertical-align: middle;\n",
       "    }\n",
       "\n",
       "    .dataframe tbody tr th {\n",
       "        vertical-align: top;\n",
       "    }\n",
       "\n",
       "    .dataframe thead th {\n",
       "        text-align: right;\n",
       "    }\n",
       "</style>\n",
       "<table border=\"1\" class=\"dataframe\">\n",
       "  <thead>\n",
       "    <tr style=\"text-align: right;\">\n",
       "      <th></th>\n",
       "      <th>userId</th>\n",
       "      <th>recommendations</th>\n",
       "    </tr>\n",
       "  </thead>\n",
       "  <tbody>\n",
       "    <tr>\n",
       "      <th>0</th>\n",
       "      <td>73470</td>\n",
       "      <td>[(102602, 3.5221798419952393), (72035, 3.46410...</td>\n",
       "    </tr>\n",
       "    <tr>\n",
       "      <th>1</th>\n",
       "      <td>23571</td>\n",
       "      <td>[(72035, 2.547758102416992), (102602, 2.507508...</td>\n",
       "    </tr>\n",
       "    <tr>\n",
       "      <th>2</th>\n",
       "      <td>25591</td>\n",
       "      <td>[(72035, 4.282489776611328), (87207, 3.8047587...</td>\n",
       "    </tr>\n",
       "    <tr>\n",
       "      <th>3</th>\n",
       "      <td>63271</td>\n",
       "      <td>[(72035, 4.301156044006348), (107743, 3.998626...</td>\n",
       "    </tr>\n",
       "    <tr>\n",
       "      <th>4</th>\n",
       "      <td>124861</td>\n",
       "      <td>[(72035, 4.826237678527832), (107743, 4.463072...</td>\n",
       "    </tr>\n",
       "  </tbody>\n",
       "</table>\n",
       "</div>"
      ],
      "text/plain": [
       "   userId                                    recommendations\n",
       "0   73470  [(102602, 3.5221798419952393), (72035, 3.46410...\n",
       "1   23571  [(72035, 2.547758102416992), (102602, 2.507508...\n",
       "2   25591  [(72035, 4.282489776611328), (87207, 3.8047587...\n",
       "3   63271  [(72035, 4.301156044006348), (107743, 3.998626...\n",
       "4  124861  [(72035, 4.826237678527832), (107743, 4.463072..."
      ]
     },
     "execution_count": 344,
     "metadata": {},
     "output_type": "execute_result"
    }
   ],
   "source": [
    "start = time.time()\n",
    "print('Recommending 10 movies for all users...')\n",
    "user_movie_recs = als_model_recommend(model, 10)\n",
    "print('Recommendations Successfully Generated')\n",
    "end = time.time()\n",
    "print('\\nTime Elapsed = '+str(np.round(end - start, 4))+' secs')\n",
    "\n",
    "user_movie_recs.head()"
   ]
  },
  {
   "cell_type": "markdown",
   "metadata": {},
   "source": [
    "##### 5.4 Hyperparameter Tuning  <a id = alshyperparameter></a>\n",
    "In order to learn the hyperparameters of our ALS model, that give us the best results, we essentially trained 9 models with different combinations of *rank* and *regParam* values as specified. Observing RMSE values from the models trained with different hyperparameters can give us an indication if we need to further tune our parameters as there might be scope to extract more performance. Finally, we would use the best fit model for predictions and recommendations."
   ]
  },
  {
   "cell_type": "code",
   "execution_count": 345,
   "metadata": {
    "scrolled": false
   },
   "outputs": [
    {
     "data": {
      "text/html": [
       "<div>\n",
       "<style scoped>\n",
       "    .dataframe tbody tr th:only-of-type {\n",
       "        vertical-align: middle;\n",
       "    }\n",
       "\n",
       "    .dataframe tbody tr th {\n",
       "        vertical-align: top;\n",
       "    }\n",
       "\n",
       "    .dataframe thead th {\n",
       "        text-align: right;\n",
       "    }\n",
       "</style>\n",
       "<table border=\"1\" class=\"dataframe\">\n",
       "  <thead>\n",
       "    <tr style=\"text-align: right;\">\n",
       "      <th></th>\n",
       "      <th>rank</th>\n",
       "      <th>regParam</th>\n",
       "      <th>rmse</th>\n",
       "    </tr>\n",
       "  </thead>\n",
       "  <tbody>\n",
       "    <tr>\n",
       "      <th>0</th>\n",
       "      <td>25</td>\n",
       "      <td>0.01</td>\n",
       "      <td>1.255248</td>\n",
       "    </tr>\n",
       "    <tr>\n",
       "      <th>1</th>\n",
       "      <td>25</td>\n",
       "      <td>0.10</td>\n",
       "      <td>0.988724</td>\n",
       "    </tr>\n",
       "    <tr>\n",
       "      <th>2</th>\n",
       "      <td>25</td>\n",
       "      <td>0.25</td>\n",
       "      <td>0.917121</td>\n",
       "    </tr>\n",
       "    <tr>\n",
       "      <th>3</th>\n",
       "      <td>25</td>\n",
       "      <td>0.50</td>\n",
       "      <td>1.000890</td>\n",
       "    </tr>\n",
       "    <tr>\n",
       "      <th>4</th>\n",
       "      <td>50</td>\n",
       "      <td>0.01</td>\n",
       "      <td>1.187884</td>\n",
       "    </tr>\n",
       "    <tr>\n",
       "      <th>5</th>\n",
       "      <td>50</td>\n",
       "      <td>0.10</td>\n",
       "      <td>0.988476</td>\n",
       "    </tr>\n",
       "    <tr>\n",
       "      <th>6</th>\n",
       "      <td>50</td>\n",
       "      <td>0.25</td>\n",
       "      <td>0.918973</td>\n",
       "    </tr>\n",
       "    <tr>\n",
       "      <th>7</th>\n",
       "      <td>50</td>\n",
       "      <td>0.50</td>\n",
       "      <td>1.000932</td>\n",
       "    </tr>\n",
       "    <tr>\n",
       "      <th>8</th>\n",
       "      <td>75</td>\n",
       "      <td>0.01</td>\n",
       "      <td>1.048006</td>\n",
       "    </tr>\n",
       "    <tr>\n",
       "      <th>9</th>\n",
       "      <td>75</td>\n",
       "      <td>0.10</td>\n",
       "      <td>0.984515</td>\n",
       "    </tr>\n",
       "    <tr>\n",
       "      <th>10</th>\n",
       "      <td>75</td>\n",
       "      <td>0.25</td>\n",
       "      <td>0.919082</td>\n",
       "    </tr>\n",
       "    <tr>\n",
       "      <th>11</th>\n",
       "      <td>75</td>\n",
       "      <td>0.50</td>\n",
       "      <td>1.000939</td>\n",
       "    </tr>\n",
       "    <tr>\n",
       "      <th>12</th>\n",
       "      <td>100</td>\n",
       "      <td>0.01</td>\n",
       "      <td>1.039805</td>\n",
       "    </tr>\n",
       "    <tr>\n",
       "      <th>13</th>\n",
       "      <td>100</td>\n",
       "      <td>0.10</td>\n",
       "      <td>0.983944</td>\n",
       "    </tr>\n",
       "    <tr>\n",
       "      <th>14</th>\n",
       "      <td>100</td>\n",
       "      <td>0.25</td>\n",
       "      <td>0.919270</td>\n",
       "    </tr>\n",
       "    <tr>\n",
       "      <th>15</th>\n",
       "      <td>100</td>\n",
       "      <td>0.50</td>\n",
       "      <td>1.000942</td>\n",
       "    </tr>\n",
       "  </tbody>\n",
       "</table>\n",
       "</div>"
      ],
      "text/plain": [
       "    rank  regParam      rmse\n",
       "0     25      0.01  1.255248\n",
       "1     25      0.10  0.988724\n",
       "2     25      0.25  0.917121\n",
       "3     25      0.50  1.000890\n",
       "4     50      0.01  1.187884\n",
       "5     50      0.10  0.988476\n",
       "6     50      0.25  0.918973\n",
       "7     50      0.50  1.000932\n",
       "8     75      0.01  1.048006\n",
       "9     75      0.10  0.984515\n",
       "10    75      0.25  0.919082\n",
       "11    75      0.50  1.000939\n",
       "12   100      0.01  1.039805\n",
       "13   100      0.10  0.983944\n",
       "14   100      0.25  0.919270\n",
       "15   100      0.50  1.000942"
      ]
     },
     "execution_count": 345,
     "metadata": {},
     "output_type": "execute_result"
    }
   ],
   "source": [
    "params = [{p.name: v for p, v in m.items()} for m in model.getEstimatorParamMaps()]\n",
    "tuning_results = pd.DataFrame.from_dict([\n",
    "    {model.getEvaluator().getMetricName(): metric, **ps} \n",
    "    for ps, metric in zip(params, model.avgMetrics)\n",
    "])\n",
    "\n",
    "tuning_results"
   ]
  },
  {
   "cell_type": "code",
   "execution_count": 346,
   "metadata": {},
   "outputs": [
    {
     "data": {
      "image/png": "[encoded data removed]",
      "text/plain": [
       "<Figure size 432x288 with 2 Axes>"
      ]
     },
     "metadata": {
      "needs_background": "light"
     },
     "output_type": "display_data"
    }
   ],
   "source": [
    "plt.subplots_adjust(0.1, 0.1, 2, 1.4)\n",
    "\n",
    "plt.subplot(1, 2, 1)\n",
    "plt.plot(tuning_results['rank'].unique(), tuning_results.groupby(['rank']).min()['rmse'], marker = 'o')\n",
    "plt.title('Impact of Increasing Latent Factors on RMSE')\n",
    "plt.xlabel('Number of Latent Factors (rank)')\n",
    "plt.ylabel('RMSE')\n",
    "\n",
    "plt.subplot(1, 2, 2)\n",
    "plt.plot(tuning_results['regParam'].unique(), tuning_results.groupby(['regParam']).min()['rmse'], marker = 'o')\n",
    "plt.title('Impact of Increasing Regularization Penalty on RMSE')\n",
    "plt.xlabel('Regularization Penalty (regParam)')\n",
    "plt.ylabel('RMSE')\n",
    "\n",
    "plt.show()"
   ]
  },
  {
   "cell_type": "markdown",
   "metadata": {},
   "source": [
    "#### Findings\n",
    "* *(Use your small development data set. Systematically try a range of hyper parameters for your models (e.g. neighborhood size or number of latent dimensions). Record and explain in your markdown how your evaluation metrics change as a function of these parameters. Include plots!)*\n",
    "\n",
    "We can observe that as we increase the latent factors of our ALS model, the RMSE value increases but marginally. This implies that increasing the number of latent factors has no significant impact on the performance of our model in terms of RMSE. \n",
    "\n",
    "However, tuning the regularization hyperparameter, *regParam* is important as it significantly improves our ALS model. As the penalty term increases, it makes our model more generalizable and thereby performs better on validation dataset."
   ]
  },
  {
   "cell_type": "markdown",
   "metadata": {},
   "source": [
    "#### 6. Baseline Model <a id = baseline></a>\n",
    "\n",
    "The baseline model we have developed here computes the average rating for each movie in the training dataset. We would assign this computed average rating to all the users as the predicted rating for that movie, irrespective of their history. Therefore, the recommendations provided to each user by the baseline model would be top-k highly rated movies. Additionally, we have shown the accuracy of this baseline model on our test data set by predicting the rating for each user-movie pair in the test data set. Later on, we validate that our item-item memory based and ALS based model outperforms the baseline model by measuring their accuracy (RMSE and MAE)."
   ]
  },
  {
   "cell_type": "code",
   "execution_count": 347,
   "metadata": {},
   "outputs": [],
   "source": [
    "def baseline_model(df_train, df_test):\n",
    "    avg_movie_rtg = (df_train[[\"movieId\",\"rating\"]].groupby(['movieId']).\\\n",
    "                     mean()).reset_index().rename(columns={\"rating\":\"prediction\"})\n",
    "    ratings_test = df_test.merge(avg_movie_rtg,on=\"movieId\", how=\"left\")\n",
    "    \n",
    "    rmse = np.round(np.sqrt(np.mean((ratings_test['prediction']-ratings_test['rating'])**2)), 4)\n",
    "    mae = np.round(np.mean(np.abs(ratings_test['prediction']-ratings_test['rating'])), 4)\n",
    "\n",
    "    ratings_test.drop(['prediction'], inplace=True, axis=1)\n",
    "    return rmse, mae"
   ]
  },
  {
   "cell_type": "code",
   "execution_count": 348,
   "metadata": {},
   "outputs": [
    {
     "name": "stdout",
     "output_type": "stream",
     "text": [
      "Evaluating RMSE, MAE on test dataset...\n",
      "RMSE on Test Dataset =  0.9114\n",
      "MAE on Test Dataset =  0.7066\n",
      "\n",
      "Time Elapsed = 0.0305 secs\n"
     ]
    }
   ],
   "source": [
    "# baseline_model: performance evaluation\n",
    "start = time.time()\n",
    "print('Evaluating RMSE, MAE on test dataset...')\n",
    "rmse, mae = baseline_model(ratings_training, ratings_test)\n",
    "print('RMSE on Test Dataset = ', rmse)\n",
    "print('MAE on Test Dataset = ', mae)\n",
    "end = time.time()\n",
    "print('\\nTime Elapsed = '+str(np.round(end - start, 4))+' secs')"
   ]
  },
  {
   "cell_type": "markdown",
   "metadata": {},
   "source": [
    "#### 7. Results Analysis <a id = results></a>\n",
    "\n",
    "As initially stated, our objective was to show that a collaborative filtering recommendation system that learns from user interaction will perform better in terms of model accuracy. Moreover, since accuracy metrics only look at predicted ratings, and our end output to users will be a set of recommendations, it is useful to evaluate item and user coverage. Lastly, if we wish to productionalize a recommendation system, we need to consider how well our model scales as data increases, both in terms of accuracy and run-time."
   ]
  },
  {
   "cell_type": "markdown",
   "metadata": {},
   "source": [
    "##### 7.1 Accuracy <a id = accuracy></a>\n",
    "\n",
    "In both our models we are predicting the ratings of movies present in the test data. For this, Root Mean Squared Error (RMSE) and Mean Average Error (MAE) are used for evaluation. Though fairly similar metrics, MAE does not penalize far off predictions as much as RMSE does and thus offers a different perspective.\n",
    "\n",
    "RMSE : It is the standard deviation of the residuals which are prediction errors, i.e it measures the average magnitude of error. It has the benefit of penalizing larger errors. \n",
    "\n",
    "$$RMSE = \\sqrt{\\frac{\\sum_{k=1}^n (PredictedRatings-TrueRatings)^2}{n}}$$\n",
    "\n",
    "MAE : It measures the average magnitude of the errors. It’s the average of the absolute differences between prediction and actual observation. \n",
    "\n",
    "$$MAE = {\\frac{\\sum_{k=1}^n |{(PredictedRatings-TrueRatings)}|}{n}}$$\n",
    "\n",
    "As observed, on test dataset, \n",
    "\n",
    "* Item-Item Memory Based CF has *RMSE* = **0.8833** and *MAE* = **0.7612** \n",
    "* ALS Model Based CF has *RMSE* = **0.8818** and *MAE* = **0.698**"
   ]
  },
  {
   "cell_type": "markdown",
   "metadata": {},
   "source": [
    "##### 7.2 Coverage <a id = coverage></a>\n",
    "\n",
    "We have considered two types of coverage to evaluate our recommendations: user and item coverage. \n",
    "\n",
    "Item Coverage is the percentage of items in the training data that the system was able to recommend. \n",
    "\n",
    "$$Coverage_{Item} = {\\frac{m}{M}}$$\n",
    "\n",
    "where, m is the number of unique movies in the test data and M the number of unique movies in train data.\n",
    "\n",
    "User Coverage is the percentage of users for whom the recommender was able to recommend.\n",
    "\n",
    "$$Coverage_{User} = {\\frac{u}{U}}$$\n",
    "\n",
    "where, u is the number of unique movies in the test data and U the number of unique movies in train data."
   ]
  },
  {
   "cell_type": "code",
   "execution_count": 359,
   "metadata": {},
   "outputs": [],
   "source": [
    "def coverage(train, recommend):\n",
    "    # Item Coverage\n",
    "    items_train = len(train.movieId.unique())\n",
    "    \n",
    "    l = list(recommend[\"recommendations\"].apply(lambda x : list(zip(*x))[0]))\n",
    "    output = []\n",
    "    def removeNestings(l): \n",
    "        for i in l: \n",
    "            if type(i) == tuple: \n",
    "                removeNestings(i) \n",
    "            else: \n",
    "                output.append(i) \n",
    "    removeNestings(l)\n",
    "    \n",
    "    items_recommend=len(set(output))\n",
    "    item_coverage = np.round(items_recommend/items_train, 4)\n",
    "    \n",
    "    # User Coverage\n",
    "    user_coverage = (recommend.shape[0])/(len(train.userId.unique()))\n",
    "    \n",
    "    return item_coverage, user_coverage"
   ]
  },
  {
   "cell_type": "code",
   "execution_count": 363,
   "metadata": {},
   "outputs": [
    {
     "name": "stdout",
     "output_type": "stream",
     "text": [
      "Item-Item Memory Based - Item Coverage = 0.3278 and User Coverage = 1.0\n",
      "ALS Model Based - Item Coverage = 0.2124 and User Coverage = 1.0\n"
     ]
    }
   ],
   "source": [
    "memory_coverage = coverage(ratings_training, users_recommendations_df)\n",
    "print('Item-Item Memory Based - Item Coverage =', memory_coverage[0], 'and User Coverage =', memory_coverage[1])\n",
    "\n",
    "als_coverage = coverage(ratings_training, user_movie_recs)\n",
    "print('ALS Model Based - Item Coverage =', als_coverage[0], 'and User Coverage =', als_coverage[1])"
   ]
  },
  {
   "cell_type": "markdown",
   "metadata": {},
   "source": [
    "In our case, since we have assured that recommendations are made for users with adequate ratings (for a given set of movies), i.e. those who have rated more than 7 movies, and as the system does not provide recommendations to new users i.e those who do not appear in training data, we had initially split the train and test accordingly such that 80% of a user’s rating appears in train set and 20% in test set. This also helped in reducing the sparsity in the training data. As such the user coverage would be 1."
   ]
  },
  {
   "cell_type": "markdown",
   "metadata": {},
   "source": [
    "##### 7.3 Scalability <a id = scalability></a>\n",
    "\n",
    "The function defined below runs item-item memory based, ALS model based and baseline logic for samples of increasing size. We are increasing the number of movies sampled by a factor of 500, from 500 to 2500. The impact of increasing sample size on model accuracy and running time is plotted below."
   ]
  },
  {
   "cell_type": "code",
   "execution_count": null,
   "metadata": {},
   "outputs": [],
   "source": [
    "# for ALS\n",
    "scalability_perform_als = pd.DataFrame(columns = ['sample_size', 'rmse', 'mae', 'elapsed_time'])\n",
    "for i in range(5):\n",
    "    sample, sample_training, sample_test = data_sampling(ratings_all, item_nos=500*(i+1), item_split=[0.90,0.10])\n",
    "    sample_size = len(sample)\n",
    "    \n",
    "    sample_test_sc = sqlContext.createDataFrame(sample_test)\n",
    "    sample_training_sc = sqlContext.createDataFrame(sample_training)\n",
    "    \n",
    "    # training model\n",
    "    start = time.time()\n",
    "    sample_model = als_model_train(sample_training_sc)\n",
    "    end = time.time()\n",
    "    \n",
    "    # computing rmse, mae\n",
    "    sample_rmse, sample_mae = als_model_predict(sample_model, sample_test_sc)\n",
    "    \n",
    "    scalability_perform_als.loc[i] = [sample_size, sample_rmse, sample_mae, end-start]\n",
    "\n",
    "# for Memory\n",
    "scalability_perform_memory = pd.DataFrame(columns = ['sample_size', 'rmse', 'mae', 'elapsed_time'])\n",
    "for i in range(5):\n",
    "    sample, sample_training, sample_test = data_sampling(ratings_all, item_nos=500*(i+1), item_split=[0.90,0.10])\n",
    "    sample_size = len(sample)\n",
    "    \n",
    "    # training model\n",
    "    start = time.time()\n",
    "    w_matrix = build_weight_matrix(sample_training)\n",
    "    end = time.time()\n",
    "    \n",
    "    # computing rmse, mae\n",
    "    sample_rmse, sample_mae = rmse_eval(sample_test, w_matrix, sample_training)\n",
    "    \n",
    "    # appending to performance metric set\n",
    "    scalability_perform_memory.loc[i] = [sample_size, sample_rmse, sample_mae, end-start]\n",
    "\n",
    "# for Baseline Model\n",
    "scalability_perform_base = pd.DataFrame(columns = ['sample_size', 'rmse', 'mae', 'elapsed_time'])\n",
    "for i in range(5):\n",
    "    sample, sample_training, sample_test = data_sampling(ratings_all, item_nos=500*(i+1), item_split=[0.90,0.10])\n",
    "    sample_size = len(sample)\n",
    "    \n",
    "    # training model\n",
    "    start = time.time()\n",
    "    sample_rmse, sample_mae = baseline_model(sample_training, sample_test)\n",
    "    end = time.time()\n",
    "    \n",
    "    # appending to performance metric set\n",
    "    scalability_perform_base.loc[i] = [sample_size, sample_rmse, sample_mae, end-start]"
   ]
  },
  {
   "cell_type": "code",
   "execution_count": 299,
   "metadata": {},
   "outputs": [
    {
     "data": {
      "image/png": "[encoded data removed]",
      "text/plain": [
       "<Figure size 432x288 with 2 Axes>"
      ]
     },
     "metadata": {
      "needs_background": "light"
     },
     "output_type": "display_data"
    }
   ],
   "source": [
    "plt.subplots_adjust(0.1, 0.1, 2, 1.4)\n",
    "\n",
    "plt.subplot(1, 2, 1)\n",
    "plt.plot(scalability_perform_als['sample_size'], scalability_perform_als['rmse'], marker='o')\n",
    "plt.plot(scalability_perform_memory['sample_size'], scalability_perform_memory['rmse'], marker='o')\n",
    "plt.plot(scalability_perform_base['sample_size'], scalability_perform_base['rmse'], marker='o')\n",
    "plt.legend(['ALS', 'Memory', 'Baseline'])\n",
    "plt.title('Impact of Sample Size on RMSE')\n",
    "plt.xlabel('Sample Size - No. of Ratings')\n",
    "plt.ylabel('RMSE')\n",
    "\n",
    "plt.subplot(1, 2, 2)\n",
    "plt.plot(scalability_perform_als['sample_size'], scalability_perform_als['mae'], marker='o')\n",
    "plt.plot(scalability_perform_memory['sample_size'], scalability_perform_memory['mae'], marker='o')\n",
    "plt.plot(scalability_perform_base['sample_size'], scalability_perform_base['mae'], marker='o')\n",
    "plt.legend(['ALS', 'Memory', 'Baseline'])\n",
    "plt.title('Impact of Sample Size on MAE')\n",
    "plt.xlabel('Sample Size - No. of Ratings')\n",
    "plt.ylabel('MAE')\n",
    "\n",
    "plt.show()"
   ]
  },
  {
   "cell_type": "code",
   "execution_count": 300,
   "metadata": {},
   "outputs": [
    {
     "data": {
      "image/png": "[encoded data removed]",
      "text/plain": [
       "<Figure size 432x288 with 1 Axes>"
      ]
     },
     "metadata": {
      "needs_background": "light"
     },
     "output_type": "display_data"
    }
   ],
   "source": [
    "plt.subplots_adjust(0.1, 0.1, 2, 1.4)\n",
    "\n",
    "plt.plot(scalability_perform_als['sample_size'], scalability_perform_als['elapsed_time'], marker='o')\n",
    "plt.plot(scalability_perform_memory['sample_size'], scalability_perform_memory['elapsed_time'], marker='o')\n",
    "plt.plot(scalability_perform_base['sample_size'], scalability_perform_base['elapsed_time'], marker='o')\n",
    "plt.legend(['ALS', 'Memory', 'Baseline'])\n",
    "plt.title('Impact of Sample Size on Running Time')\n",
    "plt.xlabel('Sample Size - No. of Ratings')\n",
    "plt.ylabel('Running Time (secs)')\n",
    "plt.show()"
   ]
  },
  {
   "cell_type": "markdown",
   "metadata": {},
   "source": [
    "* *How do the evaluation metrics change as a function of your model size? Change your data set size by sampling your data from a small size to a large size*\n",
    "\n",
    "*Impact of Sample Size on Accuracy*\n",
    "\n",
    "As sample size increases, the RMSE value initially shoots up and then starts to decrease for the ALS model but it stays rather consistent and decreases for the item-item memory based model. As for each sample, the ALS model learns new set of hyperparameters on the validation dataset, and accuracy is reported above is on test dataset, this behavior is expected. On comparison with baseline model, both item-item memory based and ALS model perform better. \n",
    "\n",
    "In case of MAE, there is no conclusive evidence which model is better among item-item memory based and ALS model, though ALS maintains a similar trend to RMSE where it initially shoots up and then starts to decrease. However, both models were found to be better than the baseline model.\n",
    "\n",
    "*Impact of Sample Size on Running Time*\n",
    "\n",
    "As expected, the running time of baseline model is lower than the two models we implemented. Since the baseline model does not learn from any user-movie rating interactions, the computation is less intensive and this behavior is consistent as sample size increases. In between ALS model and item-item memory based model, the computation for ALS model is much faster as it was run on a distributed Spark platform. Hence ALS offers better scalability."
   ]
  },
  {
   "cell_type": "markdown",
   "metadata": {},
   "source": [
    "#### 8. Conclusion & Future Work <a id = conclusion></a>\n",
    "\n",
    "* *How does your recommendation system meet your hypothetical objectives? Would you feel comfortable putting these solutions into production at a real company? What would be the potential watch outs?*\n",
    "\n",
    "* *After seeing these results, what other design choices might you consider in order to have a more accurate or more useful model?*\n",
    "\n",
    "*Conclusion*\n",
    "\n",
    "Our objective was to show that having a collaborative filtering based recommendation system that learns user behavior will outperform a baseline algorithm that simply recommends top-k highly rated movies for each user. We can see that both item-item memory based and ALS model based collaborative filtering algorithms give us significant bump in model accuracy, measured in terms of RMSE and MAE. In that sense, we have accomplished our objective. \n",
    "\n",
    "To productionalize a recommendation system in a work setting, we have to put emphasis on how well our model scales as the amount of data increases. As observed, as the size of our data increases the algorithm does not drop too much in accuracy and manages to maintain similar level of RMSE and MAE. And though there are dips in accuracy, it is expected as increasing the dataset leads to increase in noise in our data. To tackle this, we may want to add additional business rules or tune hyperparameters over a larger set of combinations, which a data scientist needs to continously explore as data grows over time.\n",
    "\n",
    "*Future Work*\n",
    "\n",
    "As both the models deployed here, are based on explicit features, we have the potential to improve our model by including implicit user or item feedback. We can perform collective matrix factorization by imputing genre information alongside movie ratings as it is a logical assumption that users show preference of certain genre(s) of movies. We could utilize external data sources such as IMDB movie ratings, movie cast, etc. to further improve our model. We should also explore deep learning algorithms for recommender systems and compare with collaborative filtering algorithms in terms of scalability.\n",
    "\n",
    "We also want to solve for cold-start problem so that we can stop eliminating users who have inadequate ratings from our analysis. We have achieved a good user coverage in our existing implementation because we are not considering such users. As we include implicit user behavior and provide recommendations, we should revisit user coverage and evaluate our model. Lastly, we would want to include diversity and novelty in the recommendations that we provide to the user. If we tackle this in the correct way, this would help the organization in the long run through customer retension and possibly acquisition. \n",
    "\n",
    "As an initial version of the recommendation system is put in place, we need to plan ahead and build a pipeline of additional features and functionality we want added to our system. Considering both feasibility and monetary benifit of each feature/functionality, we can define the priorities. At every stage we would choose to productionalize the new model only if it performs better than the existing model, which acts as our new baseline."
   ]
  }
 ],
 "metadata": {
  "kernelspec": {
   "display_name": "Python 3",
   "language": "python",
   "name": "python3"
  },
  "language_info": {
   "codemirror_mode": {
    "name": "ipython",
    "version": 3
   },
   "file_extension": ".py",
   "mimetype": "text/x-python",
   "name": "python",
   "nbconvert_exporter": "python",
   "pygments_lexer": "ipython3",
   "version": "3.7.3"
  },
  "varInspector": {
   "cols": {
    "lenName": 16,
    "lenType": 16,
    "lenVar": 40
   },
   "kernels_config": {
    "python": {
     "delete_cmd_postfix": "",
     "delete_cmd_prefix": "del ",
     "library": "var_list.py",
     "varRefreshCmd": "print(var_dic_list())"
    },
    "r": {
     "delete_cmd_postfix": ") ",
     "delete_cmd_prefix": "rm(",
     "library": "var_list.r",
     "varRefreshCmd": "cat(var_dic_list()) "
    }
   },
   "oldHeight": 122,
   "position": {
    "height": "40px",
    "left": "1170px",
    "right": "20px",
    "top": "120px",
    "width": "250px"
   },
   "types_to_exclude": [
    "module",
    "function",
    "builtin_function_or_method",
    "instance",
    "_Feature"
   ],
   "varInspector_section_display": "none",
   "window_display": false
  }
 },
 "nbformat": 4,
 "nbformat_minor": 2
}
